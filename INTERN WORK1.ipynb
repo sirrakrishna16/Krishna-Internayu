{
 "cells": [
  {
   "cell_type": "markdown",
   "id": "a0c00ef8",
   "metadata": {},
   "source": [
    "# IMPORT LIBRARIES\n"
   ]
  },
  {
   "cell_type": "code",
   "execution_count": 1,
   "id": "1280cc57",
   "metadata": {},
   "outputs": [
    {
     "name": "stderr",
     "output_type": "stream",
     "text": [
      "C:\\Users\\ACER\\AppData\\Local\\Temp\\ipykernel_19968\\2864690594.py:15: DeprecationWarning: executable_path has been deprecated, please pass in a Service object\n",
      "  browser = webdriver.Chrome(r\"C:/Users/ACER/Downloads/chromedriver_win32/chromedriver.exe\")\n"
     ]
    }
   ],
   "source": [
    "from time import sleep\n",
    "from selenium import webdriver\n",
    "from selenium.webdriver.common.keys import Keys\n",
    "from selenium import webdriver\n",
    "from selenium.webdriver.common.keys import Keys\n",
    "from selenium.webdriver.support import expected_conditions as EC\n",
    "from selenium.webdriver.common.by import By\n",
    "from selenium.webdriver.support.wait import WebDriverWait\n",
    "import time\n",
    "import pandas as pd\n",
    "from selenium.webdriver.support.ui import WebDriverWait\n",
    "from selenium import webdriver\n",
    "from selenium.webdriver.chrome.service import Service\n",
    "from webdriver_manager.chrome import ChromeDriverManager\n",
    "browser = webdriver.Chrome(r\"C:/Users/ACER/Downloads/chromedriver_win32/chromedriver.exe\")\n",
    "browser.implicitly_wait(5) # seconds\n",
    "browser.get('https://www.instagram.com/')\n",
    "from selenium.webdriver.common.by import By"
   ]
  },
  {
   "cell_type": "markdown",
   "id": "f59a5027",
   "metadata": {},
   "source": [
    "# DOING INSPECT COPING X PATH AND PUTTING USERNAME AND PASSWORD"
   ]
  },
  {
   "cell_type": "code",
   "execution_count": 3,
   "id": "de07fb23",
   "metadata": {},
   "outputs": [],
   "source": [
    "\n",
    "username_input = browser.find_element(By.XPATH, \"//*[@id='loginForm']/div/div[1]/div/label/input\")\n",
    "\n",
    "username_input.send_keys('scrapekrishna')\n",
    "password_input = browser.find_element(By.XPATH, \" //*[@id='loginForm']/div/div[2]/div/label/input\")\n",
    "password_input.send_keys('scrape@1')\n",
    "login_btn = browser.find_element(By.XPATH, \"//*[@id='loginForm']/div/div[3]/button\")\n",
    "login_btn.click()\n"
   ]
  },
  {
   "cell_type": "code",
   "execution_count": 3,
   "id": "a0720c60",
   "metadata": {},
   "outputs": [],
   "source": [
    "notnow=browser.find_element(By.XPATH, \"//*[@id='react-root']/section/main/div/div/div/div/button\").click()\n"
   ]
  },
  {
   "cell_type": "code",
   "execution_count": 12,
   "id": "dac8d844",
   "metadata": {},
   "outputs": [],
   "source": [
    "browser.find_element(By.XPATH, \"//*[@id='mount_0_0_j8']/div/div/div/div[2]/div/div/div[1]/div/div[2]/div/div/div/div/div/div/div/div[3]/button[2]\").click()"
   ]
  },
  {
   "cell_type": "code",
   "execution_count": 2,
   "id": "5f93d33a",
   "metadata": {},
   "outputs": [],
   "source": [
    "import pandas as pd"
   ]
  },
  {
   "cell_type": "markdown",
   "id": "5604f78e",
   "metadata": {},
   "source": [
    "# TAKING URLS OF USERNAME"
   ]
  },
  {
   "cell_type": "code",
   "execution_count": 2,
   "id": "73e34939",
   "metadata": {},
   "outputs": [
    {
     "name": "stdout",
     "output_type": "stream",
     "text": [
      "['https://www.instagram.com/aiims_rishikesh_students_club', 'https://www.instagram.com/aiims_student_association', 'https://www.instagram.com/aiims__kalyani', 'https://www.instagram.com/medical_student_at_aiims_888']\n"
     ]
    }
   ],
   "source": [
    "df = pd.read_csv('C:/Users/ACER/Downloads/Book1.csv')\n",
    "\n",
    "item = df['username'].tolist()\n",
    "starturl =[]\n",
    "\n",
    "for w1 in item:                                                     \n",
    "   starturl.append(f'https://www.instagram.com/{w1}')\n",
    "print(starturl)"
   ]
  },
  {
   "cell_type": "markdown",
   "id": "6172cb3d",
   "metadata": {},
   "source": [
    "# EXTRACTING DATA OF USERNAME BY THEIR CLASSNAME"
   ]
  },
  {
   "cell_type": "code",
   "execution_count": 3,
   "id": "9fc47702",
   "metadata": {},
   "outputs": [
    {
     "name": "stderr",
     "output_type": "stream",
     "text": [
      "C:\\Users\\ACER\\AppData\\Local\\Temp\\ipykernel_19968\\2348613107.py:21: FutureWarning: The frame.append method is deprecated and will be removed from pandas in a future version. Use pandas.concat instead.\n",
      "  df2 = df2.append(df3)\n",
      "C:\\Users\\ACER\\AppData\\Local\\Temp\\ipykernel_19968\\2348613107.py:21: FutureWarning: The frame.append method is deprecated and will be removed from pandas in a future version. Use pandas.concat instead.\n",
      "  df2 = df2.append(df3)\n",
      "C:\\Users\\ACER\\AppData\\Local\\Temp\\ipykernel_19968\\2348613107.py:21: FutureWarning: The frame.append method is deprecated and will be removed from pandas in a future version. Use pandas.concat instead.\n",
      "  df2 = df2.append(df3)\n",
      "C:\\Users\\ACER\\AppData\\Local\\Temp\\ipykernel_19968\\2348613107.py:21: FutureWarning: The frame.append method is deprecated and will be removed from pandas in a future version. Use pandas.concat instead.\n",
      "  df2 = df2.append(df3)\n"
     ]
    }
   ],
   "source": [
    "insta_data = []\n",
    "\n",
    "for urls in starturl :\n",
    "    try:\n",
    "      browser.get(urls)\n",
    "      abcd=browser.find_element(By.CLASS_NAME,'_aacl ').text\n",
    "      instainfo=browser.find_element(By.CLASS_NAME,'_aa_7').text\n",
    "      browser.execute_script(\"window.scrollTo(0, 300)\") \n",
    "      button1=browser.find_element(By.CLASS_NAME,'_aagw')\n",
    "      import click\n",
    "      button1.click()\n",
    "      posttime=browser.find_element(By.CLASS_NAME,'_aaqe').text\n",
    "      df1 = pd.read_csv('C:/Users/ACER/Desktop/MEDICAL FILE/Book2.csv')\n",
    "      likes=browser.find_element(By.CLASS_NAME,'_ae5m').text\n",
    "      cross=browser.find_element(By.CLASS_NAME, 'om3e55n1')\n",
    "      cross.click()\n",
    "      insta_data.append((abcd, instainfo, posttime, likes))\n",
    "      df3 = pd.DataFrame(insta_data, columns=['Profile','Insta-info','Post-Time','Likes'])\n",
    "      df2 = pd.read_csv('C:/Users/ACER/Desktop/MEDICAL FILE/Book3.csv')\n",
    "      \n",
    "      df2 = df2.append(df3)\n",
    "\n",
    "    except:\n",
    "        None\n",
    "df2.to_csv('C:/Users/ACER/Desktop/MEDICAL FILE/Book3.csv', encoding = 'utf-8', index=False)        \n",
    "\n"
   ]
  },
  {
   "cell_type": "code",
   "execution_count": 39,
   "id": "2d64f78b",
   "metadata": {},
   "outputs": [],
   "source": [
    "df2.to_csv('C:/Users/ACER/Desktop/MEDICAL FILE/Book3.csv', encoding = 'utf-8', index=False)  "
   ]
  }
 ],
 "metadata": {
  "kernelspec": {
   "display_name": "Python 3 (ipykernel)",
   "language": "python",
   "name": "python3"
  },
  "language_info": {
   "codemirror_mode": {
    "name": "ipython",
    "version": 3
   },
   "file_extension": ".py",
   "mimetype": "text/x-python",
   "name": "python",
   "nbconvert_exporter": "python",
   "pygments_lexer": "ipython3",
   "version": "3.10.4"
  }
 },
 "nbformat": 4,
 "nbformat_minor": 5
}
